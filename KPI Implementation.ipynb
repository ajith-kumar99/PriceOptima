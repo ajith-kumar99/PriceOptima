{
 "cells": [
  {
   "cell_type": "markdown",
   "id": "b46c2be0-4b7a-491f-88e9-f4ee6defe868",
   "metadata": {},
   "source": [
    "## 1. Revenue\n",
    "### Calculating the total revenue earned assuming all rides are completed at historical prices.\n"
   ]
  },
  {
   "cell_type": "code",
   "execution_count": 2,
   "id": "5245de82-488c-4644-96aa-1f80b4bd763e",
   "metadata": {},
   "outputs": [
    {
     "name": "stdout",
     "output_type": "stream",
     "text": [
      "     Number_of_Riders  Historical_Cost_of_Ride       Revenue\n",
      "0                  90               284.257273  25583.154572\n",
      "1                  58               173.874753  10084.735659\n",
      "2                  42               329.795469  13851.409696\n",
      "3                  89               470.201232  41847.909626\n",
      "4                  78               579.681422  45215.150944\n",
      "..                ...                      ...           ...\n",
      "995                33                91.389526   3015.854357\n",
      "996                84               424.155987  35629.102883\n",
      "997                44               157.364830   6924.052534\n",
      "998                53               279.095048  14792.037557\n",
      "999                78               655.065106  51095.078232\n",
      "\n",
      "[1000 rows x 3 columns]\n",
      "\n",
      "Total Revenue = 22514545.017633334\n"
     ]
    }
   ],
   "source": [
    "import pandas as pd\n",
    "import numpy as np\n",
    "df = pd.read_csv('dynamic_pricing.csv')\n",
    "\n",
    "df['Revenue'] = df['Historical_Cost_of_Ride'] * df['Number_of_Riders']\n",
    "\n",
    "print(df[['Number_of_Riders', 'Historical_Cost_of_Ride', 'Revenue']])\n",
    "print(\"\\nTotal Revenue =\", df['Revenue'].sum())"
   ]
  },
  {
   "cell_type": "markdown",
   "id": "26e6730f-78af-4a38-8c0c-0a80f2bb0d67",
   "metadata": {},
   "source": [
    "## 2.Profit\n",
    "### Computing the profit for each ride assuming operational cost is 70% of the ride price.\n"
   ]
  },
  {
   "cell_type": "code",
   "execution_count": 3,
   "id": "ee89728a-12ef-44cf-b4ce-0f69ca29bf81",
   "metadata": {},
   "outputs": [
    {
     "name": "stdout",
     "output_type": "stream",
     "text": [
      "     Number_of_Riders  Historical_Cost_of_Ride        Profit\n",
      "0                  90               284.257273   7674.946372\n",
      "1                  58               173.874753   3025.420698\n",
      "2                  42               329.795469   4155.422909\n",
      "3                  89               470.201232  12554.372888\n",
      "4                  78               579.681422  13564.545283\n",
      "..                ...                      ...           ...\n",
      "995                33                91.389526    904.756307\n",
      "996                84               424.155987  10688.730865\n",
      "997                44               157.364830   2077.215760\n",
      "998                53               279.095048   4437.611267\n",
      "999                78               655.065106  15328.523469\n",
      "\n",
      "[1000 rows x 3 columns]\n",
      "\n",
      "Total Profit = 6754363.505290002\n"
     ]
    }
   ],
   "source": [
    "df['Cost_per_Ride'] = df['Historical_Cost_of_Ride'] * 0.7\n",
    "df['Profit'] = (df['Historical_Cost_of_Ride'] - df['Cost_per_Ride']) * df['Number_of_Riders']\n",
    "\n",
    "print(df[['Number_of_Riders', 'Historical_Cost_of_Ride', 'Profit']])\n",
    "print(\"\\nTotal Profit =\", df['Profit'].sum())"
   ]
  },
  {
   "cell_type": "markdown",
   "id": "eef7b470-82bc-4d7c-88b8-d0d69f70621a",
   "metadata": {},
   "source": [
    "## 3.Revenue Lift\n",
    "### Calculating the percentage increase in revenue using recommended (dynamic) prices compared to baseline."
   ]
  },
  {
   "cell_type": "code",
   "execution_count": 5,
   "id": "54cbb6b9-f7f8-4383-9709-a8d3a1ffedd9",
   "metadata": {},
   "outputs": [
    {
     "name": "stdout",
     "output_type": "stream",
     "text": [
      "     Number_of_Riders       Revenue  Revenue_Recommended  Revenue_Lift_%\n",
      "0                  90  25583.154572         28141.470029            10.0\n",
      "1                  58  10084.735659         11093.209225            10.0\n",
      "2                  42  13851.409696         15236.550666            10.0\n",
      "3                  89  41847.909626         46032.700588            10.0\n",
      "4                  78  45215.150944         49736.666039            10.0\n",
      "..                ...           ...                  ...             ...\n",
      "995                33   3015.854357          3317.439793            10.0\n",
      "996                84  35629.102883         39192.013171            10.0\n",
      "997                44   6924.052534          7616.457788            10.0\n",
      "998                53  14792.037557         16271.241313            10.0\n",
      "999                78  51095.078232         56204.586055            10.0\n",
      "\n",
      "[1000 rows x 4 columns]\n",
      "\n",
      "Average Revenue Lift % = 10.000000000000007\n"
     ]
    }
   ],
   "source": [
    "df['Recommended_Price'] = df['Historical_Cost_of_Ride'] * 1.1\n",
    "df['Revenue_Recommended'] = df['Recommended_Price'] * df['Number_of_Riders']\n",
    "\n",
    "\n",
    "df['Revenue'] = df['Historical_Cost_of_Ride'] * df['Number_of_Riders']\n",
    "\n",
    "df['Revenue_Lift_%'] = (df['Revenue_Recommended'] - df['Revenue']) / df['Revenue'] * 100\n",
    "\n",
    "print(df[['Number_of_Riders', 'Revenue', 'Revenue_Recommended', 'Revenue_Lift_%']])\n",
    "print(\"\\nAverage Revenue Lift % =\", df['Revenue_Lift_%'].mean())"
   ]
  },
  {
   "cell_type": "markdown",
   "id": "e32aa301-11de-4ca3-89ee-691fbd51ff5f",
   "metadata": {},
   "source": [
    "## 4.Gross Margin\n",
    "### Computing the gross margin percentage as revenue minus cost over revenue for each ride."
   ]
  },
  {
   "cell_type": "code",
   "execution_count": 6,
   "id": "35cc1a68-72a0-448b-a51c-79163eb08ee0",
   "metadata": {},
   "outputs": [
    {
     "name": "stdout",
     "output_type": "stream",
     "text": [
      "     Number_of_Riders  Baseline_Revenue  Gross_Margin_%\n",
      "0                  90      25583.154572            30.0\n",
      "1                  58      10084.735659            30.0\n",
      "2                  42      13851.409696            30.0\n",
      "3                  89      41847.909626            30.0\n",
      "4                  78      45215.150944            30.0\n",
      "..                ...               ...             ...\n",
      "995                33       3015.854357            30.0\n",
      "996                84      35629.102883            30.0\n",
      "997                44       6924.052534            30.0\n",
      "998                53      14792.037557            30.0\n",
      "999                78      51095.078232            30.0\n",
      "\n",
      "[1000 rows x 3 columns]\n",
      "\n",
      "Average Gross Margin % = 30.0\n"
     ]
    }
   ],
   "source": [
    "df['Cost_per_Ride'] = df['Historical_Cost_of_Ride'] * 0.7\n",
    "df['Baseline_Revenue'] = df['Historical_Cost_of_Ride'] * df['Number_of_Riders']\n",
    "\n",
    "df['Gross_Margin_%'] = (df['Baseline_Revenue'] - (df['Cost_per_Ride'] * df['Number_of_Riders'])) / df['Baseline_Revenue'] * 100\n",
    "\n",
    "print(df[['Number_of_Riders', 'Baseline_Revenue', 'Gross_Margin_%']])\n",
    "print(\"\\nAverage Gross Margin % =\", df['Gross_Margin_%'].mean())"
   ]
  },
  {
   "cell_type": "markdown",
   "id": "c9445d2c-d591-41b8-9ce5-d30fb39498f8",
   "metadata": {},
   "source": [
    "## 5.Conversion Rate\n",
    "### Calculating the ride conversion rate assuming all booking intents result in completed rides."
   ]
  },
  {
   "cell_type": "code",
   "execution_count": 7,
   "id": "d9323660-114c-4025-98e9-3b8ede26ff9d",
   "metadata": {},
   "outputs": [
    {
     "name": "stdout",
     "output_type": "stream",
     "text": [
      "     Number_of_Riders  Conversion_Rate_%\n",
      "0                  90              100.0\n",
      "1                  58              100.0\n",
      "2                  42              100.0\n",
      "3                  89              100.0\n",
      "4                  78              100.0\n",
      "..                ...                ...\n",
      "995                33              100.0\n",
      "996                84              100.0\n",
      "997                44              100.0\n",
      "998                53              100.0\n",
      "999                78              100.0\n",
      "\n",
      "[1000 rows x 2 columns]\n",
      "\n",
      "Average Conversion Rate % = 100.0\n"
     ]
    }
   ],
   "source": [
    "df['Conversion_Rate_%'] = 100.0\n",
    "\n",
    "print(df[['Number_of_Riders', 'Conversion_Rate_%']])\n",
    "print(\"\\nAverage Conversion Rate % =\", df['Conversion_Rate_%'].mean())"
   ]
  },
  {
   "cell_type": "markdown",
   "id": "0e3df1b6-36e4-4fa5-a852-5bc5dd0af6b5",
   "metadata": {},
   "source": [
    "## 6.Price Change Rate\n",
    "### Calculating the percentage of rides where the recommended price differs from the historical price."
   ]
  },
  {
   "cell_type": "code",
   "execution_count": 8,
   "id": "f3a7e9a6-0005-4f03-9bbf-0b529e042adb",
   "metadata": {},
   "outputs": [
    {
     "name": "stdout",
     "output_type": "stream",
     "text": [
      "     Historical_Cost_of_Ride  Recommended_Price  Price_Changed\n",
      "0                 284.257273         312.683000           True\n",
      "1                 173.874753         191.262228           True\n",
      "2                 329.795469         362.775016           True\n",
      "3                 470.201232         517.221355           True\n",
      "4                 579.681422         637.649565           True\n",
      "..                       ...                ...            ...\n",
      "995                91.389526         100.528479           True\n",
      "996               424.155987         466.571585           True\n",
      "997               157.364830         173.101313           True\n",
      "998               279.095048         307.004553           True\n",
      "999               655.065106         720.571616           True\n",
      "\n",
      "[1000 rows x 3 columns]\n",
      "\n",
      "Overall Price Change Rate % = 100.0\n"
     ]
    }
   ],
   "source": [
    "df['Recommended_Price'] = df['Historical_Cost_of_Ride'] * 1.1\n",
    "\n",
    "df['Price_Changed'] = df['Historical_Cost_of_Ride'] != df['Recommended_Price']\n",
    "price_change_rate = df['Price_Changed'].sum() / len(df) * 100\n",
    "\n",
    "print(df[['Historical_Cost_of_Ride', 'Recommended_Price', 'Price_Changed']])\n",
    "print(\"\\nOverall Price Change Rate % =\", price_change_rate)\n"
   ]
  },
  {
   "cell_type": "markdown",
   "id": "6de0defc-4d8c-46b0-a70b-16e021bd5e8b",
   "metadata": {},
   "source": [
    "## 7.Cancellation Rate\n",
    "### Computing the percentage of rides canceled, assuming 5% cancellations for all rides."
   ]
  },
  {
   "cell_type": "code",
   "execution_count": 9,
   "id": "d46f022d-d46c-4f38-92a7-648f379d0c05",
   "metadata": {},
   "outputs": [
    {
     "name": "stdout",
     "output_type": "stream",
     "text": [
      "     Number_of_Riders  Cancelled_Rides  Cancellation_Rate_%\n",
      "0                  90                4             4.444444\n",
      "1                  58                2             3.448276\n",
      "2                  42                2             4.761905\n",
      "3                  89                4             4.494382\n",
      "4                  78                3             3.846154\n",
      "..                ...              ...                  ...\n",
      "995                33                1             3.030303\n",
      "996                84                4             4.761905\n",
      "997                44                2             4.545455\n",
      "998                53                2             3.773585\n",
      "999                78                3             3.846154\n",
      "\n",
      "[1000 rows x 3 columns]\n",
      "\n",
      "Average Cancellation Rate % = 4.112951786676691\n"
     ]
    }
   ],
   "source": [
    "df['Cancelled_Rides'] = (df['Number_of_Riders'] * 0.05).astype(int)\n",
    "df['Cancellation_Rate_%'] = df['Cancelled_Rides'] / df['Number_of_Riders'] * 100\n",
    "\n",
    "print(df[['Number_of_Riders', 'Cancelled_Rides', 'Cancellation_Rate_%']])\n",
    "print(\"\\nAverage Cancellation Rate % =\", df['Cancellation_Rate_%'].mean())"
   ]
  }
 ],
 "metadata": {
  "kernelspec": {
   "display_name": "Python [conda env:base] *",
   "language": "python",
   "name": "conda-base-py"
  },
  "language_info": {
   "codemirror_mode": {
    "name": "ipython",
    "version": 3
   },
   "file_extension": ".py",
   "mimetype": "text/x-python",
   "name": "python",
   "nbconvert_exporter": "python",
   "pygments_lexer": "ipython3",
   "version": "3.13.5"
  }
 },
 "nbformat": 4,
 "nbformat_minor": 5
}
